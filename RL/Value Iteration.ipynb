{
 "cells": [
  {
   "cell_type": "markdown",
   "metadata": {},
   "source": [
    "# Code Parameters \n",
    "* The discount factor, gamma has been set to 0.9\n",
    "* The environment is slippery, ie., the transition kernel is stochastic"
   ]
  },
  {
   "cell_type": "code",
   "execution_count": 2,
   "metadata": {},
   "outputs": [],
   "source": [
    "import matplotlib.pyplot as plt\n",
    "import numpy as np\n",
    "import gym\n",
    "from gym.envs.registration import register\n",
    "register(\n",
    "    id='D4x4-FrozenLake-v0',\n",
    "    entry_point='gym.envs.toy_text.frozen_lake:FrozenLakeEnv',\n",
    "    kwargs={'map_name': '4x4',\n",
    "            'is_slippery': True})\n",
    "env = gym.make('D4x4-FrozenLake-v0')\n",
    "gamma=0.9"
   ]
  },
  {
   "cell_type": "code",
   "execution_count": 3,
   "metadata": {},
   "outputs": [],
   "source": [
    "# Make sure env is declared \n",
    "def return_prob(y,x,a):\n",
    "    if not env:\n",
    "        return -2\n",
    "    A = env.P[x][a]\n",
    "    for i in range(len(A)):\n",
    "        #print(\"A :\",A[i][1])\n",
    "        #print(\"y :\",y)\n",
    "        if y==A[i][1]:\n",
    "            return A[i][0]\n",
    "    # If y is not part of the Range, print 0\n",
    "    return 0\n",
    "def return_reward(y,x,a):\n",
    "    if not env:\n",
    "        return -2\n",
    "    A = env.P[x][a]\n",
    "    for i in range(len(A)):\n",
    "        #print(\"A :\",A[i][1])\n",
    "        #print(\"y :\",y)\n",
    "        \n",
    "        if y==A[i][1]:\n",
    "            return A[i][2]\n",
    "    \n",
    "    # If y isn't part of the range\n",
    "    return 0\n",
    "        \n",
    "        \n",
    "    \n",
    "    "
   ]
  },
  {
   "cell_type": "code",
   "execution_count": 4,
   "metadata": {},
   "outputs": [],
   "source": [
    "%matplotlib inline\n",
    "import seaborn\n",
    "import matplotlib.pyplot as plt\n",
    "import numpy as np\n",
    "V_global=[]\n",
    "def fancy_visual(value_func,policy_int):    \n",
    "    grid = 4\n",
    "    f, ax = plt.subplots(figsize=(11, 9))\n",
    "    cmap = seaborn.diverging_palette(220, 10, as_cmap=True)\n",
    "    reshaped=np.reshape(value_func,(grid,grid))\n",
    "    seaborn.heatmap(reshaped, cmap=cmap, vmax=1.1,\n",
    "                square=True, xticklabels=grid+1, yticklabels=grid+1,\n",
    "                linewidths=.5, cbar_kws={\"shrink\": .5}, ax=ax, annot=True, fmt=\"f\")\n",
    "    counter=0\n",
    "    for j in range(0, 4):\n",
    "        for i in range(0, 4):\n",
    "            if policy_int[counter]==1:\n",
    "                plt.text(i+0.5, j+0.7, u'\\u2193', fontsize=12)\n",
    "            elif policy_int[counter]==3:\n",
    "                plt.text(i+0.5, j+0.7, u'\\u2191', fontsize=12)\n",
    "            elif policy_int[counter]==0:\n",
    "                plt.text(i+0.5, j+0.7, u'\\u2190', fontsize=12)\n",
    "            else:\n",
    "                plt.text(i+0.5, j+0.7, u'\\u2192', fontsize=12)\n",
    "            counter=counter+1\n",
    "\n",
    "    plt.title('Heatmap of policy iteration with value function values and directions')\n",
    "    print('Value Function',value_func)\n",
    "    print('Policy',policy_int)\n",
    "    plt.show()"
   ]
  },
  {
   "cell_type": "code",
   "execution_count": 5,
   "metadata": {},
   "outputs": [],
   "source": [
    "def norm_diff(V1,V2):\n",
    "    A=np.sum(np.fabs(V1- V2))\n",
    "    return A\n",
    "\n",
    "def ValueIteration(env,gamma):\n",
    "    global V_global\n",
    "    ## HyperParameter\n",
    "    delta=0.00001\n",
    "    Plt_list=[] # For Plotting Convergence\n",
    "    \n",
    "    V=np.zeros(16)\n",
    "    V_old=np.zeros(16)\n",
    "    Policy =np.random.randint(0,3,16)\n",
    "    #print(\"Initial Policy: \", Policy)\n",
    "    #n_state, reward, terminal, _ = env.step(action)\n",
    "    \n",
    "    while True: #Make it true\n",
    "        V_old=np.copy(V)\n",
    "        # Crap MAX!!!!!  V_old = V creates an alias for it!!! Not a copy. Why in God's hell will that happen??\n",
    "        #print(\"V1 is \",V_old)\n",
    "        \n",
    "        for x in range(env.nS):\n",
    "            # a=Policy[x] #Action from that Policy - there is one action for every state\n",
    "            #print(\"V is \",V)\n",
    "            #print(\"in top of for loop\")\n",
    "            #print(\"V1 is \",V_old)\n",
    "            #tsum =0.0\n",
    "            tmax=0.0\n",
    "            ta=0\n",
    "            #print(\"State \", x)\n",
    "            for a in range(env.nA):\n",
    "                tsum=0.0\n",
    "                for y in range(env.nS):\n",
    "                    \n",
    "#                     if return_reward(y,x,a):\n",
    "#                         print(\"Old tsum \", tsum)\n",
    "                    \n",
    "                    tsum=tsum+return_prob(y,x,a)*(return_reward(y,x,a) + gamma*V_old[y])\n",
    "#                     if tsum:\n",
    "#                         print(\"y \", y)\n",
    "#                         print(\"x \",x)\n",
    "#                         print(\"a \", a)\n",
    "#                         print(\"Prob \", return_prob(y,x,a))\n",
    "#                         print(\"Reward \",return_reward(y,x,a))\n",
    "#                         print(\"gamma \", gamma)\n",
    "#                         print(\"V_old \", V_old[y])\n",
    "#                         print(\"tsum\", tsum)\n",
    "#                         print(\"---------------\")\n",
    "                    # At this Point, I get that summation\n",
    "                \n",
    "                #print(\"Current Action: \", a)\n",
    "                #print(\"Current Value Function: \", tsum)\n",
    "\n",
    "                if a==0: # Initializing tmax and the corresponding action leading to the max Value Function\n",
    "                    tmax=tsum\n",
    "                    ta=a\n",
    "\n",
    "                if tmax<tsum: # If there's an action with a better Value Function - Replace it with that\n",
    "                    ta=a\n",
    "                    tmax=tsum\n",
    "#                 if tsum:\n",
    "#                     print(\"Reinitialising tsum and a is \",a, \" x is \", x)\n",
    "                tsum=0.0\n",
    "            #print(\"Action Decided: \", ta)\n",
    "            # At this point I get the best Action Possible (ta)\n",
    "            Policy[x]=ta\n",
    "            #print(\"Before Assingment\")\n",
    "#             print(\"V is \",V)\n",
    "#             print(\"in bottom of for loop\")\n",
    "#             print(\"V1 is \",V_old)\n",
    "            \n",
    "            V[x] = tmax # Assign the maximum Value to the Value Function\n",
    "#             print(\"After Assingment\")\n",
    "#             print(\"V is \",V)\n",
    "#             print(\"in bottom of for loop\")\n",
    "#             print(\"V1 is \",V_old)\n",
    "#             print(\"-----------------------------------------\\n\\n\")\n",
    "            \n",
    "#         print(\"out of for loop\")\n",
    "        \n",
    "        Plt_list.append(norm_diff(V_old,V))\n",
    "        #print(norm_diff(V_old,V))\n",
    "        plt.plot(Plt_list, 'ro')\n",
    "#         print(\"V1 is \", V_old)\n",
    "        #print(\"V is\", V)\n",
    "    \n",
    "    \n",
    "        \n",
    "        if norm_diff(V_old,V) < delta:\n",
    "            print(Policy)\n",
    "            fancy_visual(V,Policy)\n",
    "            V_global=V\n",
    "            return Policy\n",
    "        \n",
    "    # By now, I have old Value Function - V1 and new Value Function V\n",
    "    \n",
    "    \n",
    "    \n",
    "    # For Plotting\n",
    "    \n",
    "    "
   ]
  },
  {
   "cell_type": "code",
   "execution_count": 6,
   "metadata": {},
   "outputs": [
    {
     "name": "stdout",
     "output_type": "stream",
     "text": [
      "\n",
      "\u001b[41mS\u001b[0mFFF\n",
      "FHFH\n",
      "FFFH\n",
      "HFFG\n",
      "[1 3 0 0 0 0 0 0 3 1 0 0 0 2 1 0]\n",
      "Value Function [0.06279689 0.05806242 0.07268536 0.0311503  0.08846729 0.\n",
      " 0.11153923 0.         0.14363035 0.24667323 0.29911348 0.\n",
      " 0.         0.37950242 0.638834   0.        ]\n",
      "Policy [1 3 0 0 0 0 0 0 3 1 0 0 0 2 1 0]\n"
     ]
    },
    {
     "data": {
      "image/png": "[encoded data removed]",
      "text/plain": [
       "<Figure size 432x288 with 1 Axes>"
      ]
     },
     "metadata": {
      "needs_background": "light"
     },
     "output_type": "display_data"
    },
    {
     "data": {
      "image/png": "[encoded data removed]",
      "text/plain": [
       "<Figure size 792x648 with 2 Axes>"
      ]
     },
     "metadata": {
      "needs_background": "light"
     },
     "output_type": "display_data"
    },
    {
     "name": "stdout",
     "output_type": "stream",
     "text": [
      "0\n",
      "1\n",
      "5\n",
      "5\n",
      "5\n",
      "5\n",
      "5\n",
      "5\n",
      "5\n",
      "5\n",
      "5\n",
      "5\n",
      "5\n",
      "5\n",
      "5\n",
      "5\n"
     ]
    }
   ],
   "source": [
    "state = env.reset()\n",
    "env.render()\n",
    "VI_Policy=ValueIteration(env,gamma)\n",
    "for i in VI_Policy:\n",
    "    action=i\n",
    "    observation, reward, done, info = env.step(action) # take a random action\n",
    "    #env.render()\n",
    "    print(observation)\n",
    "    \n",
    "\n",
    "    "
   ]
  },
  {
   "cell_type": "code",
   "execution_count": 7,
   "metadata": {},
   "outputs": [
    {
     "name": "stdout",
     "output_type": "stream",
     "text": [
      "Optimal Q Function\n",
      "Optimal Q Function [[0.04537925 0.06279798 0.06279798 0.03625779]\n",
      " [0.03625779 0.04064467 0.03922433 0.0580634 ]\n",
      " [0.0726861  0.06022559 0.06461247 0.04856942]\n",
      " [0.0311507  0.0311507  0.00934509 0.0311507 ]\n",
      " [0.08846836 0.06962929 0.06192817 0.04537925]\n",
      " [0.         0.         0.         0.        ]\n",
      " [0.11153965 0.08973404 0.11153965 0.02180561]\n",
      " [0.         0.         0.         0.        ]\n",
      " [0.06962929 0.11709107 0.10054215 0.14363126]\n",
      " [0.15693983 0.24667387 0.20358477 0.13282315]\n",
      " [0.29911394 0.26565217 0.22511197 0.10746374]\n",
      " [0.         0.         0.         0.        ]\n",
      " [0.         0.         0.         0.        ]\n",
      " [0.18785269 0.30550093 0.37950289 0.26565217]\n",
      " [0.39523497 0.63883426 0.61471758 0.5369181 ]\n",
      " [0.         0.         0.         0.        ]]\n"
     ]
    }
   ],
   "source": [
    "print(\"Optimal Q Function\")\n",
    "Q=np.zeros((env.nS,env.nA))\n",
    "\n",
    "\n",
    "for x in range(env.nS):\n",
    "    tmax=0.0\n",
    "    ta=0\n",
    "    for a in range(env.nA):\n",
    "        tsum=0.0\n",
    "        for y in range(env.nS):\n",
    "            tsum=tsum+return_prob(y,x,a)*(return_reward(y,x,a) + gamma*V_global[y])\n",
    "#             if a==0: # Initializing tmax and the corresponding action leading to the max Value Function\n",
    "#                 tmax=tsum\n",
    "#                 ta=a\n",
    "#             if tmax<tsum: # If there's an action with a better Value Function - Replace it with that\n",
    "#                 ta=a\n",
    "#                 tmax=tsum\n",
    "        Q[x][a] = tsum\n",
    "        tsum=0.0\n",
    "        #Policy[x]=ta\n",
    "        \n",
    "print(\"Optimal Q Function\", Q)"
   ]
  },
  {
   "cell_type": "code",
   "execution_count": null,
   "metadata": {},
   "outputs": [],
   "source": []
  },
  {
   "cell_type": "code",
   "execution_count": null,
   "metadata": {},
   "outputs": [],
   "source": []
  },
  {
   "cell_type": "code",
   "execution_count": null,
   "metadata": {},
   "outputs": [],
   "source": []
  },
  {
   "cell_type": "code",
   "execution_count": null,
   "metadata": {},
   "outputs": [],
   "source": []
  },
  {
   "cell_type": "code",
   "execution_count": null,
   "metadata": {},
   "outputs": [],
   "source": []
  },
  {
   "cell_type": "code",
   "execution_count": null,
   "metadata": {},
   "outputs": [],
   "source": []
  },
  {
   "cell_type": "code",
   "execution_count": null,
   "metadata": {},
   "outputs": [],
   "source": []
  },
  {
   "cell_type": "code",
   "execution_count": null,
   "metadata": {},
   "outputs": [],
   "source": []
  },
  {
   "cell_type": "code",
   "execution_count": null,
   "metadata": {},
   "outputs": [],
   "source": []
  }
 ],
 "metadata": {
  "kernelspec": {
   "display_name": "Python 3",
   "language": "python",
   "name": "python3"
  },
  "language_info": {
   "codemirror_mode": {
    "name": "ipython",
    "version": 3
   },
   "file_extension": ".py",
   "mimetype": "text/x-python",
   "name": "python",
   "nbconvert_exporter": "python",
   "pygments_lexer": "ipython3",
   "version": "3.7.4"
  }
 },
 "nbformat": 4,
 "nbformat_minor": 2
}
